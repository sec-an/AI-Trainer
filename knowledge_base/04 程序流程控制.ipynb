{
 "cells": [
  {
   "cell_type": "code",
   "id": "initial_id",
   "metadata": {
    "collapsed": true
   },
   "source": [
    "from IPython.core.interactiveshell import InteractiveShell\n",
    "InteractiveShell.ast_node_interactivity = \"all\""
   ],
   "outputs": [],
   "execution_count": null
  },
  {
   "metadata": {},
   "cell_type": "markdown",
   "source": [
    "## 分支语句\n",
    "### if结构\n",
    "> <img src=\"./assets/img/04/1_79_2.png\" width=50%>\n",
    "\n",
    "#### 流程图\n",
    "> <img src=\"./assets/img/04/1_80_1.png\" width=50%>\n",
    "\n",
    "#### 示例代码\n",
    "> <img src=\"./assets/img/04/1_80_2.png\" width=50%>\n",
    "\n",
    "#### 运行代码\n",
    "> <img src=\"./assets/img/04/1_81_1.png\" width=50%>"
   ],
   "id": "9579b48b7af69d33"
  },
  {
   "metadata": {},
   "cell_type": "code",
   "source": [
    "score = int(input('请输入一个0~100整数：'))\n",
    "\n",
    "if score >= 85:\n",
    "    print('您真优秀！')\n",
    "\n",
    "if score < 60:\n",
    "    print('您需要加倍努力！')\n",
    "\n",
    "if (score >= 60) and (score < 85):\n",
    "    print('您的成绩还可以，仍需继续努力！')"
   ],
   "id": "751a1dd5ac4c0c2e",
   "outputs": [],
   "execution_count": null
  },
  {
   "metadata": {},
   "cell_type": "markdown",
   "source": [
    "### if-else结构\n",
    "> <img src=\"./assets/img/04/1_81_2.png\" width=50%>\n",
    "\n",
    "#### 流程图\n",
    "> <img src=\"./assets/img/04/1_82_1.png\" width=50%>\n",
    "\n",
    "#### 示例代码\n",
    "> <img src=\"./assets/img/04/1_83_1.png\" width=50%>"
   ],
   "id": "42b9cf78624517c"
  },
  {
   "metadata": {},
   "cell_type": "code",
   "source": "",
   "id": "f547bc1003764556",
   "outputs": [],
   "execution_count": null
  },
  {
   "metadata": {},
   "cell_type": "markdown",
   "source": [
    "### if-elif-else结构\n",
    "> <img src=\"./assets/img/04/1_84_2.png\" width=50%>\n",
    "\n",
    "#### 流程图\n",
    "> <img src=\"./assets/img/04/1_85_1.png\" width=50%>\n",
    "\n",
    "#### 示例代码\n",
    "> <img src=\"./assets/img/04/1_86_1.png\" width=50%>"
   ],
   "id": "398beb776a4e9d7c"
  },
  {
   "metadata": {},
   "cell_type": "code",
   "source": [
    "score = int(input('请输入一个0~100整数：'))\n",
    "\n",
    "if score >= 90:\n",
    "    grade = 'A'\n",
    "elif score >= 80:\n",
    "    grade = 'B'\n",
    "elif score >= 70:\n",
    "    grade = 'C'\n",
    "elif score >= 60:\n",
    "    grade = 'D'\n",
    "else:\n",
    "    grade = 'F'\n",
    "\n",
    "print('Grade = ' + grade)"
   ],
   "id": "bc077520c007faa3",
   "outputs": [],
   "execution_count": null
  },
  {
   "metadata": {},
   "cell_type": "markdown",
   "source": [
    "## 循环语句\n",
    "### while语句\n",
    "> <img src=\"./assets/img/04/1_89_1.png\" width=50%>\n",
    "\n",
    "#### 示例代码\n",
    "> <img src=\"./assets/img/04/1_89_2.png\" width=50%>"
   ],
   "id": "38c67f3f17dc4e3e"
  },
  {
   "metadata": {},
   "cell_type": "code",
   "source": "",
   "id": "6200b67250291b53",
   "outputs": [],
   "execution_count": null
  },
  {
   "metadata": {},
   "cell_type": "markdown",
   "source": [
    "> <img src=\"./assets/img/04/1_90_1.png\" width=50%>\n",
    "> <img src=\"./assets/img/04/1_90_2.png\" width=50%>"
   ],
   "id": "9d6bd543d59b233a"
  },
  {
   "metadata": {},
   "cell_type": "code",
   "source": [
    "i = 0\n",
    "\n",
    "while i * 1 < 10:\n",
    "    i += 1\n",
    "    print(str(i) + ' * ' + str(i) + ' =', i * 1)\n",
    "else:\n",
    "    print('While Over!')"
   ],
   "id": "2949f6eca2512a6b",
   "outputs": [],
   "execution_count": null
  },
  {
   "metadata": {},
   "cell_type": "markdown",
   "source": "> <img src=\"./assets/img/04/1_91_2.png\" width=50%>",
   "id": "9417ac903e9fc69d"
  },
  {
   "metadata": {},
   "cell_type": "code",
   "source": "",
   "id": "cd1c1082d1943212",
   "outputs": [],
   "execution_count": null
  },
  {
   "metadata": {},
   "cell_type": "markdown",
   "source": [
    "### for语句\n",
    "> <img src=\"./assets/img/04/1_92_2.png\" width=50%>\n",
    "\n",
    "#### 示例代码\n",
    "> <img src=\"./assets/img/04/1_93_1.png\" width=50%>"
   ],
   "id": "31ec8b64ca0642cb"
  },
  {
   "metadata": {},
   "cell_type": "code",
   "source": [
    "print('----字符串-------')\n",
    "for item in 'Hello':\n",
    "    print(item)\n",
    "\n",
    "# 声明整数列表\n",
    "numbers = [43, 32, 55, 74]\n",
    "print('----整数列表-------')\n",
    "for item in numbers:\n",
    "    print(item)"
   ],
   "id": "9558680e9b7cc1c6",
   "outputs": [],
   "execution_count": null
  },
  {
   "metadata": {},
   "cell_type": "markdown",
   "source": [
    "> <img src=\"./assets/img/04/1_94_1.png\" width=50%>\n",
    "> <img src=\"./assets/img/04/1_95_1.png\" width=50%>"
   ],
   "id": "7ef9b80d9cab817d"
  },
  {
   "metadata": {},
   "cell_type": "code",
   "source": "",
   "id": "c7b80d8cfce20950",
   "outputs": [],
   "execution_count": null
  },
  {
   "metadata": {},
   "cell_type": "markdown",
   "source": "> <img src=\"./assets/img/04/1_96_1.png\" width=50%>",
   "id": "428248273f2fe15"
  },
  {
   "metadata": {},
   "cell_type": "code",
   "source": "",
   "id": "8862521577675de6",
   "outputs": [],
   "execution_count": null
  },
  {
   "metadata": {},
   "cell_type": "markdown",
   "source": [
    "## 跳转语句\n",
    "### break语句\n",
    "break语句用于强行退出循环体，不再执行循环体中剩余的语句。\n",
    "\n",
    "#### 流程图\n",
    "> <img src=\"./assets/img/04/1_98_1.png\" width=50%>\n",
    "\n",
    "#### 示例代码\n",
    "> <img src=\"./assets/img/04/1_98_2.png\" width=50%>"
   ],
   "id": "d14b411b6d2698ff"
  },
  {
   "metadata": {},
   "cell_type": "code",
   "source": "",
   "id": "4bfeb4af6f3b277e",
   "outputs": [],
   "execution_count": null
  },
  {
   "metadata": {},
   "cell_type": "markdown",
   "source": [
    "### continue语句\n",
    "continue语句用于结束本次循环，跳过循环体中尚未执行的语句，接着进行终止条件的判断，以决定是否继续循环。\n",
    "\n",
    "#### 流程图\n",
    "> <img src=\"./assets/img/04/1_100_1.png\" width=50%>\n",
    "\n",
    "#### 示例代码\n",
    "> <img src=\"./assets/img/04/1_100_2.png\" width=50%>"
   ],
   "id": "6117409d272640d4"
  },
  {
   "metadata": {},
   "cell_type": "code",
   "source": "",
   "id": "4ea3e8728e23c36b",
   "outputs": [],
   "execution_count": null
  },
  {
   "metadata": {},
   "cell_type": "markdown",
   "source": [
    "## 动动手——计算水仙花数\n",
    "编写代码，通过while循环计算出水仙花数。提示：水仙花数是一个三位数，三位数各位的立方之和等于三位数本身。"
   ],
   "id": "ed0a82a6689901f0"
  },
  {
   "metadata": {},
   "cell_type": "markdown",
   "source": "> <img src=\"./assets/img/04/1_102_2.png\" width=50%>",
   "id": "19531ba13c8f647c"
  },
  {
   "metadata": {},
   "cell_type": "code",
   "source": "",
   "id": "9b70362e379cba25",
   "outputs": [],
   "execution_count": null
  }
 ],
 "metadata": {
  "kernelspec": {
   "display_name": "Python 3",
   "language": "python",
   "name": "python3"
  },
  "language_info": {
   "codemirror_mode": {
    "name": "ipython",
    "version": 2
   },
   "file_extension": ".py",
   "mimetype": "text/x-python",
   "name": "python",
   "nbconvert_exporter": "python",
   "pygments_lexer": "ipython2",
   "version": "2.7.6"
  }
 },
 "nbformat": 4,
 "nbformat_minor": 5
}
