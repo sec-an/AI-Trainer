{
 "cells": [
  {
   "metadata": {},
   "cell_type": "code",
   "source": [
    "from IPython.core.interactiveshell import InteractiveShell\n",
    "InteractiveShell.ast_node_interactivity = \"all\""
   ],
   "id": "67322230dcaecbb4",
   "outputs": [],
   "execution_count": null
  },
  {
   "metadata": {},
   "cell_type": "markdown",
   "source": [
    "## 标识符\n",
    "- 命名规则\n",
    "    - 区分大小写：Myname与myname是两个不同的标识符\n",
    "    - 首字符可以是下画线（_）或字母，但不能是数字\n",
    "    - 除首字符外的其他字符必须是下画线、字母和数字\n",
    "    - **关键字**不能作为标识符\n",
    "    - 不要使用Python的内置函数作为自己的标识符\n",
    "> <img src=\"./assets/img/01/identifiers.png\" width=50%>"
   ],
   "id": "368d2cfcd7ff4e32"
  },
  {
   "metadata": {},
   "cell_type": "markdown",
   "source": [
    "## 关键字\n",
    "> <img src=\"./assets/img/01/keywords.png\" width=50%>"
   ],
   "id": "34adca44c0bfad6b"
  },
  {
   "metadata": {},
   "cell_type": "markdown",
   "source": [
    "## 变量\n",
    "> <img src=\"./assets/img/01/variable.png\" width=50%>"
   ],
   "id": "106c828064bd3113"
  },
  {
   "cell_type": "code",
   "id": "initial_id",
   "metadata": {
    "collapsed": true
   },
   "source": [
    "greeting = \"HelloWorld\"\n",
    "greeting"
   ],
   "outputs": [],
   "execution_count": null
  },
  {
   "metadata": {},
   "cell_type": "markdown",
   "source": [
    "## 语句\n",
    "Python代码是由关键字、标识符、表达式和语句等构成的，语句是代码的重要组成部分。\n",
    "\n",
    "在Python中，一行代码表示一条语句，在一般情况下语句结束时不加分号。\n",
    "> <img src=\"./assets/img/01/1_30_2.png\" width=50%>"
   ],
   "id": "d1c430ef8263690b"
  },
  {
   "metadata": {},
   "cell_type": "markdown",
   "source": [
    "## 代码注释\n",
    "在使用＃（井号）时，＃位于注释行的开头，＃后面有一个空格，接着是注释的内容。\n",
    "> <img src=\"./assets/img/01/1_31_2.png\" width=50%>\n",
    "> <img src=\"./assets/img/01/1_32_1.png\" width=50%>"
   ],
   "id": "c785fb44dc15b400"
  },
  {
   "metadata": {},
   "cell_type": "markdown",
   "source": [
    "## 模块\n",
    "在Python中一个模块就是一个文件，模块是保存代码的最小单位，在模块中可以声明变量、函数、属性和类等Python代码元素。\n",
    "\n",
    "### 模块导入语句的三种形式\n",
    "1. import＜模块名＞：通过这种方式会导入m2模块的所有代码元素，在访问时需要加前缀“m2.”\n",
    "    > <img src=\"./assets/img/01/1_33_3.png\" width=50%>\n",
    "2. from＜模块名＞import＜代码元素＞：通过这种方式会导入m2中的x变量，在访问时不需要加前缀“m2.”\n",
    "    > <img src=\"./assets/img/01/1_34_1.png\" width=50%>\n",
    "3. from＜模块名＞import＜代码元素＞as＜代码元素别名＞：与②类似，在当前m1模块的代码元素（x变量）与要导入的m2模块的代码元素（x变量）名称有冲突时，可以给要导入的代码元素（m2中的x）一个别名x2\n",
    "    > <img src=\"./assets/img/01/1_34_2.png\" width=50%>\n",
    "\n",
    "### 动动手——实现两个模块间的代码元素访问\n",
    "1. 在同一文件夹下创建两个模块hello和world，即两个代码文件：hello.py和world.py\n",
    "2. world模块的代码如下：\n",
    "    > <img src=\"./assets/img/01/1_35_1.png\" width=50%>\n",
    "3. hello模块的代码如下：\n",
    "    > <img src=\"./assets/img/01/1_35_2.png\" width=50%>\n",
    "4. hello模块是程序的入口，如果需要运行hello.py文件，则可通过Python的如下指令运行\n",
    "    > <img src=\"./assets/img/01/1_36_1.png\" width=50%>\n",
    "\n",
    "> <img src=\"./assets/img/01/1_37_1.png\" width=50%>"
   ],
   "id": "40965e18cf9ad783"
  },
  {
   "metadata": {},
   "cell_type": "code",
   "source": "",
   "id": "1f9aeeb3cb4fe238",
   "outputs": [],
   "execution_count": null
  }
 ],
 "metadata": {
  "kernelspec": {
   "display_name": "Python 3",
   "language": "python",
   "name": "python3"
  },
  "language_info": {
   "codemirror_mode": {
    "name": "ipython",
    "version": 2
   },
   "file_extension": ".py",
   "mimetype": "text/x-python",
   "name": "python",
   "nbconvert_exporter": "python",
   "pygments_lexer": "ipython2",
   "version": "2.7.6"
  }
 },
 "nbformat": 4,
 "nbformat_minor": 5
}
