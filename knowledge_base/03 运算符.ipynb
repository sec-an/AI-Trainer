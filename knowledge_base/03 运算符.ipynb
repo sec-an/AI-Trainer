{
 "cells": [
  {
   "cell_type": "code",
   "id": "initial_id",
   "metadata": {
    "collapsed": true
   },
   "source": [
    "from IPython.core.interactiveshell import InteractiveShell\n",
    "InteractiveShell.ast_node_interactivity = \"all\""
   ],
   "outputs": [],
   "execution_count": null
  },
  {
   "metadata": {},
   "cell_type": "markdown",
   "source": [
    "## 算术运算符\n",
    "算术运算符用于组织整数类型和浮点类型的数据，有一元运算符和二元运算符之分。\n",
    "\n",
    "一元算术运算符有两个：+（正号）和-（负号），例如：+a还是a，-a是对a的取反运算。\n",
    "> <img src=\"./assets/img/03/1_57_1.png\" width=50%>\n",
    "> <img src=\"./assets/img/03/1_58_1.png\" width=50%>"
   ],
   "id": "e6527b4ba9aa8146"
  },
  {
   "metadata": {},
   "cell_type": "code",
   "source": [
    "a = 1\n",
    "a\n",
    "-a"
   ],
   "id": "932b4fa8e6d653c4",
   "outputs": [],
   "execution_count": null
  },
  {
   "metadata": {},
   "cell_type": "markdown",
   "source": [
    "## 比较运算符\n",
    "比较运算符用于比较两个表达式的大小，其结果是布尔类型的数据，即True或False。\n",
    "> <img src=\"./assets/img/03/1_60_1.png\" width=50%>\n",
    "> <img src=\"./assets/img/03/1_60_2.png\" width=50%>"
   ],
   "id": "26314fffa9d227b3"
  },
  {
   "metadata": {},
   "cell_type": "code",
   "source": [
    "a = 1\n",
    "b = 2\n",
    "a > b"
   ],
   "id": "232743a4c49efe52",
   "outputs": [],
   "execution_count": null
  },
  {
   "metadata": {},
   "cell_type": "markdown",
   "source": [
    "> <img src=\"./assets/img/03/1_61_1.png\" width=50%>\n",
    "> <img src=\"./assets/img/03/1_62_1.png\" width=50%>"
   ],
   "id": "83b9e3e2be1debf1"
  },
  {
   "metadata": {},
   "cell_type": "code",
   "source": [
    "a = 'Hello'\n",
    "b = 'Hello'\n",
    "a == b"
   ],
   "id": "ce7a3f862adc70a1",
   "outputs": [],
   "execution_count": null
  },
  {
   "metadata": {},
   "cell_type": "markdown",
   "source": [
    "## 逻辑运算符\n",
    "逻辑运算符用于对布尔型变量进行运算，其结果也是布尔型。\n",
    "> <img src=\"./assets/img/03/1_63_1.png\" width=50%>\n",
    "\n",
    "### 短路设计\n",
    "> <img src=\"./assets/img/03/1_64_1.png\" width=50%>\n",
    "\n",
    "### 动动手\n",
    "> <img src=\"./assets/img/03/1_65_1.png\" width=50%>"
   ],
   "id": "666435d8b39ae6ad"
  },
  {
   "metadata": {},
   "cell_type": "code",
   "source": [
    "a = 1\n",
    "b = 0\n",
    "def f1():\n",
    "    print('--进入函数f1--')\n",
    "    return True\n",
    "\n",
    "(a > b) or f1()"
   ],
   "id": "c5eeab982eb32c95",
   "outputs": [],
   "execution_count": null
  },
  {
   "metadata": {},
   "cell_type": "markdown",
   "source": [
    "## 赋值运算符\n",
    "> <img src=\"./assets/img/03/1_69_1.png\" width=50%>\n",
    "> <img src=\"./assets/img/03/1_70_1.png\" width=50%>\n",
    "\n",
    "### 动动手\n",
    "> <img src=\"./assets/img/03/1_71_1.png\" width=50%>"
   ],
   "id": "ed565cbd344d47a5"
  },
  {
   "metadata": {},
   "cell_type": "code",
   "outputs": [],
   "execution_count": null,
   "source": "",
   "id": "90fd206d0c1f2d7e"
  },
  {
   "metadata": {},
   "cell_type": "markdown",
   "source": [
    "## 运算符的优先级\n",
    "> <img src=\"./assets/img/03/1_73_1.png\" width=50%>\n",
    "\n",
    "### 动动手\n",
    "> <img src=\"./assets/img/03/1_74_1.png\" width=50%>"
   ],
   "id": "8ab96f0850a8c78c"
  },
  {
   "metadata": {},
   "cell_type": "code",
   "source": "",
   "id": "be25766e72864e6d",
   "outputs": [],
   "execution_count": null
  }
 ],
 "metadata": {
  "kernelspec": {
   "display_name": "Python 3",
   "language": "python",
   "name": "python3"
  },
  "language_info": {
   "codemirror_mode": {
    "name": "ipython",
    "version": 2
   },
   "file_extension": ".py",
   "mimetype": "text/x-python",
   "name": "python",
   "nbconvert_exporter": "python",
   "pygments_lexer": "ipython2",
   "version": "2.7.6"
  }
 },
 "nbformat": 4,
 "nbformat_minor": 5
}
