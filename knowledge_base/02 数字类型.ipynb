{
 "cells": [
  {
   "metadata": {},
   "cell_type": "code",
   "source": [
    "from IPython.core.interactiveshell import InteractiveShell\n",
    "InteractiveShell.ast_node_interactivity = \"all\""
   ],
   "id": "1027d5b536a36964",
   "outputs": [],
   "execution_count": null
  },
  {
   "metadata": {},
   "cell_type": "markdown",
   "source": [
    "## Python中的数据类型\n",
    "在Python中所有的数据类型都是类，每个数据值都是类的“实例”。\n",
    "> 例如，“字母”是一个类的概念，小写字母“a”是字母这个类的一个具体表现\n",
    "\n",
    "在Python中有6种主要的内置数据类型：数字、字符串、列表、元组、集合和字典。列表、元组、集合和字典可以容纳多项数据，在本书中把它们统称为容器类型的数据。\n",
    "\n",
    "Python中的数字类型有4种：整数类型、浮点类型、复数类型和布尔类型。需要注意的是，布尔类型也是数字类型，它事实上是整数类型的一种。"
   ],
   "id": "e8aceb88d89e1bbd"
  },
  {
   "metadata": {},
   "cell_type": "markdown",
   "source": [
    "## 整数类型\n",
    "Python中的整数类型为int类，整数类型的范围可以很大，表示很大的整数，只受所在计算机硬件的限制。\n",
    "\n",
    "### 动动手\n",
    "> <img src=\"./assets/img/02/1_43_1.png\" width=50%>"
   ],
   "id": "b92b7c820be30a27"
  },
  {
   "cell_type": "code",
   "id": "initial_id",
   "metadata": {
    "collapsed": true
   },
   "source": [
    "type(28)\n",
    "0b11100"
   ],
   "outputs": [],
   "execution_count": null
  },
  {
   "metadata": {},
   "cell_type": "markdown",
   "source": [
    "## 浮点类型\n",
    "浮点类型主要用来存储小数数值，Python的浮点类型为float类。Python只支持双精度浮点类型，而且是与本机相关的。\n",
    "\n",
    "### 动动手\n",
    "> <img src=\"./assets/img/02/1_44_2.png\" width=50%>"
   ],
   "id": "d468fe6165c49fb8"
  },
  {
   "metadata": {},
   "cell_type": "code",
   "source": "3.36e2",
   "id": "3d8d2b863bc88535",
   "outputs": [],
   "execution_count": null
  },
  {
   "metadata": {},
   "cell_type": "markdown",
   "source": [
    "## 复数类型\n",
    "整数和浮点数（小数）在数学中被统称为实数。与实数对应的是复数，复数在数学中被表示为：a+bi，其中a被称为实部，b被称为虚部，i被称为虚数单位。\n",
    "\n",
    "复数在数学、理论物理学和电气工程等方面应用广泛，例如向量就可以使用复数表示。\n",
    "\n",
    "## 布尔类型\n",
    "Python中的布尔类型为bool类，bool是int的子类，它只有两个值：`True` 和 `False`。\n",
    "> <img src=\"./assets/img/02/1_46_1.png\" width=50%>\n",
    "\n",
    "### 动动手\n",
    "> <img src=\"./assets/img/02/1_47_1.png\" width=50%>"
   ],
   "id": "16977e377eef64b5"
  },
  {
   "metadata": {},
   "cell_type": "code",
   "source": "bool(0)",
   "id": "83ee32b7c35fe5fa",
   "outputs": [],
   "execution_count": null
  },
  {
   "metadata": {},
   "cell_type": "markdown",
   "source": [
    "## 数字类型的相互转换\n",
    "在Python的数字类型中，除复数外，其他三种数字类型如整数、浮点和布尔都可以相互转换，分为**隐式**类型的转换和**显式**类型的转换。\n",
    "\n",
    "### 隐式类型的转换\n",
    "数字之间可以进行数学计算，在进行数学计算时若数字类型不同，则会发生隐式类型的转换。\n",
    "> <img src=\"./assets/img/02/1_49_2.png\" width=50%>\n",
    "> <img src=\"./assets/img/02/1_50_1.png\" width=50%>"
   ],
   "id": "7a27133c592c80e8"
  },
  {
   "metadata": {},
   "cell_type": "code",
   "source": [
    "a = 1 + True\n",
    "a"
   ],
   "id": "ad97c919c06fa78",
   "outputs": [],
   "execution_count": null
  },
  {
   "metadata": {},
   "cell_type": "markdown",
   "source": [
    "### 显式类型的转换\n",
    "> <img src=\"./assets/img/02/1_51_1.png\" width=50%>\n",
    "> <img src=\"./assets/img/02/1_52_1.png\" width=50%>"
   ],
   "id": "eba7811be7b29a03"
  },
  {
   "metadata": {},
   "cell_type": "code",
   "source": [
    "a = int(1.0) + 1\n",
    "a"
   ],
   "id": "f507161b89e36d4a",
   "outputs": [],
   "execution_count": null
  }
 ],
 "metadata": {
  "kernelspec": {
   "display_name": "Python 3",
   "language": "python",
   "name": "python3"
  },
  "language_info": {
   "codemirror_mode": {
    "name": "ipython",
    "version": 2
   },
   "file_extension": ".py",
   "mimetype": "text/x-python",
   "name": "python",
   "nbconvert_exporter": "python",
   "pygments_lexer": "ipython2",
   "version": "2.7.6"
  }
 },
 "nbformat": 4,
 "nbformat_minor": 5
}
